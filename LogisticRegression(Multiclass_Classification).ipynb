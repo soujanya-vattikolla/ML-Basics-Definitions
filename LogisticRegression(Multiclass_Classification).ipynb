{
  "nbformat": 4,
  "nbformat_minor": 0,
  "metadata": {
    "colab": {
      "name": "Logistic Regression (Multiclass Classification).ipynb",
      "provenance": [],
      "collapsed_sections": [],
      "authorship_tag": "ABX9TyONztq5+1E5uJqHnhvrHysd",
      "include_colab_link": true
    },
    "kernelspec": {
      "name": "python3",
      "display_name": "Python 3"
    },
    "language_info": {
      "name": "python"
    }
  },
  "cells": [
    {
      "cell_type": "markdown",
      "metadata": {
        "id": "view-in-github",
        "colab_type": "text"
      },
      "source": [
        "<a href=\"https://colab.research.google.com/github/soujanya-vattikolla/Machine-Learning-Tutorial/blob/main/LogisticRegression(Multiclass_Classification).ipynb\" target=\"_parent\"><img src=\"https://colab.research.google.com/assets/colab-badge.svg\" alt=\"Open In Colab\"/></a>"
      ]
    },
    {
      "cell_type": "markdown",
      "source": [
        "Use sklearn.datasets iris flower dataset to train the model using logistic regression. \n",
        "\n",
        "Need to find the out accuracy of the model and use that to predict different samples in your test dataset. In iris dataset there are 150 samples containing following features,\n",
        "\n",
        "* Sepal Length\n",
        "* Sepal Width\n",
        "* Petal Length\n",
        "* Petal Width\n",
        "\n",
        "Using above 4 features you will clasify a flower in one of the three categories,\n",
        "\n",
        "* Setosa\n",
        "* Versicolour\n",
        "* Virginica"
      ],
      "metadata": {
        "id": "y6K-zpGjsyvH"
      }
    },
    {
      "cell_type": "code",
      "source": [
        "# import required libraries\n",
        "\n",
        "from sklearn.datasets import load_iris\n",
        "import matplotlib.pyplot as plt\n",
        "%matplotlib inline\n",
        "iris_dataset = load_iris()\n"
      ],
      "metadata": {
        "id": "-3j1Rg3IqFCH"
      },
      "execution_count": 45,
      "outputs": []
    },
    {
      "cell_type": "code",
      "source": [
        "# columns present in iris dataset\n",
        "dir(iris_dataset)"
      ],
      "metadata": {
        "colab": {
          "base_uri": "https://localhost:8080/"
        },
        "id": "2zZfm5bhtst-",
        "outputId": "37f7ee7e-322e-4e49-935e-6d120545d19d"
      },
      "execution_count": 46,
      "outputs": [
        {
          "output_type": "execute_result",
          "data": {
            "text/plain": [
              "['DESCR',\n",
              " 'data',\n",
              " 'data_module',\n",
              " 'feature_names',\n",
              " 'filename',\n",
              " 'frame',\n",
              " 'target',\n",
              " 'target_names']"
            ]
          },
          "metadata": {},
          "execution_count": 46
        }
      ]
    },
    {
      "cell_type": "code",
      "source": [
        "iris_dataset.feature_names"
      ],
      "metadata": {
        "colab": {
          "base_uri": "https://localhost:8080/"
        },
        "id": "u7I_ENMNtsx1",
        "outputId": "86e733f7-20d3-4b7a-a4bb-69cf2877b43f"
      },
      "execution_count": 47,
      "outputs": [
        {
          "output_type": "execute_result",
          "data": {
            "text/plain": [
              "['sepal length (cm)',\n",
              " 'sepal width (cm)',\n",
              " 'petal length (cm)',\n",
              " 'petal width (cm)']"
            ]
          },
          "metadata": {},
          "execution_count": 47
        }
      ]
    },
    {
      "cell_type": "code",
      "source": [
        "iris_dataset.data[1]"
      ],
      "metadata": {
        "colab": {
          "base_uri": "https://localhost:8080/"
        },
        "id": "5j-uUUoLts1G",
        "outputId": "b3238980-74c0-4e37-9141-5c69bca91420"
      },
      "execution_count": 48,
      "outputs": [
        {
          "output_type": "execute_result",
          "data": {
            "text/plain": [
              "array([4.9, 3. , 1.4, 0.2])"
            ]
          },
          "metadata": {},
          "execution_count": 48
        }
      ]
    },
    {
      "cell_type": "code",
      "source": [
        "iris_dataset.target"
      ],
      "metadata": {
        "colab": {
          "base_uri": "https://localhost:8080/"
        },
        "id": "voTqyVnKv9Jm",
        "outputId": "68eb7fc7-51e7-41a3-ffe5-548fbb0ffc85"
      },
      "execution_count": 49,
      "outputs": [
        {
          "output_type": "execute_result",
          "data": {
            "text/plain": [
              "array([0, 0, 0, 0, 0, 0, 0, 0, 0, 0, 0, 0, 0, 0, 0, 0, 0, 0, 0, 0, 0, 0,\n",
              "       0, 0, 0, 0, 0, 0, 0, 0, 0, 0, 0, 0, 0, 0, 0, 0, 0, 0, 0, 0, 0, 0,\n",
              "       0, 0, 0, 0, 0, 0, 1, 1, 1, 1, 1, 1, 1, 1, 1, 1, 1, 1, 1, 1, 1, 1,\n",
              "       1, 1, 1, 1, 1, 1, 1, 1, 1, 1, 1, 1, 1, 1, 1, 1, 1, 1, 1, 1, 1, 1,\n",
              "       1, 1, 1, 1, 1, 1, 1, 1, 1, 1, 1, 1, 2, 2, 2, 2, 2, 2, 2, 2, 2, 2,\n",
              "       2, 2, 2, 2, 2, 2, 2, 2, 2, 2, 2, 2, 2, 2, 2, 2, 2, 2, 2, 2, 2, 2,\n",
              "       2, 2, 2, 2, 2, 2, 2, 2, 2, 2, 2, 2, 2, 2, 2, 2, 2, 2])"
            ]
          },
          "metadata": {},
          "execution_count": 49
        }
      ]
    },
    {
      "cell_type": "markdown",
      "source": [
        "These are the values are 0 is Iris Setosa,\n",
        "1 is Iris Versicolour and \n",
        "2 is Iris Virginica"
      ],
      "metadata": {
        "id": "yOSh9kyCu9ad"
      }
    },
    {
      "cell_type": "code",
      "source": [
        "# importing logistic regression model\n",
        "\n",
        "from sklearn.linear_model import LogisticRegression"
      ],
      "metadata": {
        "id": "ZGp8bLJPvKv0"
      },
      "execution_count": 50,
      "outputs": []
    },
    {
      "cell_type": "code",
      "source": [
        "logisticmodel = LogisticRegression()"
      ],
      "metadata": {
        "id": "ISekS8MhvUxk"
      },
      "execution_count": 51,
      "outputs": []
    },
    {
      "cell_type": "code",
      "source": [
        "# splitting data into training and testing data\n",
        "from sklearn.model_selection import train_test_split"
      ],
      "metadata": {
        "id": "eA_FNLj4vdx8"
      },
      "execution_count": 52,
      "outputs": []
    },
    {
      "cell_type": "code",
      "source": [
        "X = iris_dataset.data\n",
        "y = iris_dataset.target"
      ],
      "metadata": {
        "id": "gSVHfv0n9GX7"
      },
      "execution_count": 53,
      "outputs": []
    },
    {
      "cell_type": "code",
      "source": [
        "plt.scatter(X[:,0], X[:,1], c=y, edgecolor='k')\n",
        "plt.xlabel('Sepal Length')\n",
        "plt.ylabel('Sepal width')"
      ],
      "metadata": {
        "colab": {
          "base_uri": "https://localhost:8080/",
          "height": 300
        },
        "id": "KfMdMWl19uHA",
        "outputId": "e417e035-e9ba-4aa6-ce33-893ae02530cb"
      },
      "execution_count": 54,
      "outputs": [
        {
          "output_type": "execute_result",
          "data": {
            "text/plain": [
              "Text(0, 0.5, 'Sepal width')"
            ]
          },
          "metadata": {},
          "execution_count": 54
        },
        {
          "output_type": "display_data",
          "data": {
            "text/plain": [
              "<Figure size 432x288 with 1 Axes>"
            ],
            "image/png": "[encoded data removed]"
          },
          "metadata": {
            "needs_background": "light"
          }
        }
      ]
    },
    {
      "cell_type": "markdown",
      "source": [
        "Relationship between sepal width and length between the three classes of flowers. \n",
        "\n",
        "Virginica and versica look to be relatively similar in sepal size, but setosa has created its own cluster to the left."
      ],
      "metadata": {
        "id": "GrwwmvjJARHk"
      }
    },
    {
      "cell_type": "code",
      "source": [
        "X_train,X_test, y_train, y_test = train_test_split(X,y, test_size=0.2)"
      ],
      "metadata": {
        "id": "G73LEGIHvawL"
      },
      "execution_count": 55,
      "outputs": []
    },
    {
      "cell_type": "code",
      "source": [
        "# Training the model\n",
        "logisticmodel.fit(X_train,y_train)"
      ],
      "metadata": {
        "colab": {
          "base_uri": "https://localhost:8080/"
        },
        "id": "jNlJqMMwvveO",
        "outputId": "ba739ffd-3069-4662-b428-a78420019e48"
      },
      "execution_count": 56,
      "outputs": [
        {
          "output_type": "execute_result",
          "data": {
            "text/plain": [
              "LogisticRegression()"
            ]
          },
          "metadata": {},
          "execution_count": 56
        }
      ]
    },
    {
      "cell_type": "code",
      "source": [
        "# accuracy\n",
        "logisticmodel.score(X_test,y_test)"
      ],
      "metadata": {
        "colab": {
          "base_uri": "https://localhost:8080/"
        },
        "id": "WknKqOldwDfc",
        "outputId": "6ec211c6-cd87-4b77-c8b5-354ad002b19a"
      },
      "execution_count": 57,
      "outputs": [
        {
          "output_type": "execute_result",
          "data": {
            "text/plain": [
              "1.0"
            ]
          },
          "metadata": {},
          "execution_count": 57
        }
      ]
    },
    {
      "cell_type": "markdown",
      "source": [
        "1.0 which means that the model is good."
      ],
      "metadata": {
        "id": "40o6S1gOBSbe"
      }
    },
    {
      "cell_type": "code",
      "source": [
        "logisticmodel.predict(iris_dataset.data[0:5])"
      ],
      "metadata": {
        "colab": {
          "base_uri": "https://localhost:8080/"
        },
        "id": "Ft8IabS0wSY0",
        "outputId": "4eb5369f-adcb-4f92-d40c-7538d29bda9e"
      },
      "execution_count": 58,
      "outputs": [
        {
          "output_type": "execute_result",
          "data": {
            "text/plain": [
              "array([0, 0, 0, 0, 0])"
            ]
          },
          "metadata": {},
          "execution_count": 58
        }
      ]
    },
    {
      "cell_type": "markdown",
      "source": [
        "O  means Iris Setosa"
      ],
      "metadata": {
        "id": "SYScS7RAAYGA"
      }
    },
    {
      "cell_type": "code",
      "source": [
        "# Confusion matrix\n",
        "\n",
        "y_predicted = logisticmodel.predict(X_test)"
      ],
      "metadata": {
        "id": "KpnE3NYmwgZc"
      },
      "execution_count": 59,
      "outputs": []
    },
    {
      "cell_type": "code",
      "source": [
        "from sklearn.metrics import confusion_matrix\n",
        "\n",
        "confmat = confusion_matrix(y_test,y_predicted)\n",
        "confmat"
      ],
      "metadata": {
        "colab": {
          "base_uri": "https://localhost:8080/"
        },
        "id": "5aUUFe496pEq",
        "outputId": "425dd094-3a66-45b3-ac3e-94d00ad22720"
      },
      "execution_count": 60,
      "outputs": [
        {
          "output_type": "execute_result",
          "data": {
            "text/plain": [
              "array([[12,  0,  0],\n",
              "       [ 0, 10,  0],\n",
              "       [ 0,  0,  8]])"
            ]
          },
          "metadata": {},
          "execution_count": 60
        }
      ]
    }
  ]
}