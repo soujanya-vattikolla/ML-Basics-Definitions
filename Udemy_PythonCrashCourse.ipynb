{
  "nbformat": 4,
  "nbformat_minor": 0,
  "metadata": {
    "colab": {
      "name": "Udemy_PythonCrashCourse.ipynb",
      "provenance": [],
      "collapsed_sections": [],
      "authorship_tag": "ABX9TyPd3vyCAaT8jsi3I7rb94Dm",
      "include_colab_link": true
    },
    "kernelspec": {
      "name": "python3",
      "display_name": "Python 3"
    },
    "language_info": {
      "name": "python"
    }
  },
  "cells": [
    {
      "cell_type": "markdown",
      "metadata": {
        "id": "view-in-github",
        "colab_type": "text"
      },
      "source": [
        "<a href=\"https://colab.research.google.com/github/soujanya-vattikolla/ML-Basics-Definitions/blob/main/Udemy_PythonCrashCourse.ipynb\" target=\"_parent\"><img src=\"https://colab.research.google.com/assets/colab-badge.svg\" alt=\"Open In Colab\"/></a>"
      ]
    },
    {
      "cell_type": "markdown",
      "source": [
        "**Data types**\n",
        "\n",
        "Numbers"
      ],
      "metadata": {
        "id": "xV1KiNZ28-sx"
      }
    },
    {
      "cell_type": "code",
      "source": [
        "# integer\n",
        "1\n"
      ],
      "metadata": {
        "colab": {
          "base_uri": "https://localhost:8080/"
        },
        "id": "uJU3MYJQ9FtU",
        "outputId": "3068dc7d-bbda-4785-99fb-1aafe84caf0f"
      },
      "execution_count": null,
      "outputs": [
        {
          "output_type": "execute_result",
          "data": {
            "text/plain": [
              "1"
            ]
          },
          "metadata": {},
          "execution_count": 1
        }
      ]
    },
    {
      "cell_type": "code",
      "source": [
        "# floating point number\n",
        "1.0"
      ],
      "metadata": {
        "colab": {
          "base_uri": "https://localhost:8080/"
        },
        "id": "fc1_XxgL9Mll",
        "outputId": "7c477b99-e05d-4e1e-a38e-0fd55b377e67"
      },
      "execution_count": null,
      "outputs": [
        {
          "output_type": "execute_result",
          "data": {
            "text/plain": [
              "1.0"
            ]
          },
          "metadata": {},
          "execution_count": 2
        }
      ]
    },
    {
      "cell_type": "code",
      "source": [
        "1/2"
      ],
      "metadata": {
        "colab": {
          "base_uri": "https://localhost:8080/"
        },
        "id": "TdzcpIHc9N4Y",
        "outputId": "df6143c9-20cf-47cd-96b5-8a3562840cd0"
      },
      "execution_count": null,
      "outputs": [
        {
          "output_type": "execute_result",
          "data": {
            "text/plain": [
              "0.5"
            ]
          },
          "metadata": {},
          "execution_count": 3
        }
      ]
    },
    {
      "cell_type": "code",
      "source": [
        "# exponent\n",
        "2**4"
      ],
      "metadata": {
        "colab": {
          "base_uri": "https://localhost:8080/"
        },
        "id": "6Cewvfml9Pua",
        "outputId": "6006e8fe-7746-45bf-88a0-d1d7bab5a7b4"
      },
      "execution_count": null,
      "outputs": [
        {
          "output_type": "execute_result",
          "data": {
            "text/plain": [
              "16"
            ]
          },
          "metadata": {},
          "execution_count": 4
        }
      ]
    },
    {
      "cell_type": "code",
      "source": [
        "# first multiplication and then addition\n",
        "2 + 3 * 5 + 5 "
      ],
      "metadata": {
        "colab": {
          "base_uri": "https://localhost:8080/"
        },
        "id": "IYKnfgZI9dAc",
        "outputId": "9558570e-2778-4d1b-cd0e-f977c218e867"
      },
      "execution_count": null,
      "outputs": [
        {
          "output_type": "execute_result",
          "data": {
            "text/plain": [
              "22"
            ]
          },
          "metadata": {},
          "execution_count": 5
        }
      ]
    },
    {
      "cell_type": "code",
      "source": [
        "# we can use paranthesis to specify the order\n",
        "(2+3) * (5+5)"
      ],
      "metadata": {
        "colab": {
          "base_uri": "https://localhost:8080/"
        },
        "id": "lfC7O5h69nbt",
        "outputId": "6fe5bb16-e8ff-4d91-a19a-1f4dfb6bc724"
      },
      "execution_count": null,
      "outputs": [
        {
          "output_type": "execute_result",
          "data": {
            "text/plain": [
              "50"
            ]
          },
          "metadata": {},
          "execution_count": 6
        }
      ]
    },
    {
      "cell_type": "code",
      "source": [
        "# modulus operator gives the remainder\n",
        "\n",
        "5 % 2"
      ],
      "metadata": {
        "colab": {
          "base_uri": "https://localhost:8080/"
        },
        "id": "0SY0PG2G-XKJ",
        "outputId": "2cb01e4f-c97b-4fe0-cf10-3298d85dafef"
      },
      "execution_count": null,
      "outputs": [
        {
          "output_type": "execute_result",
          "data": {
            "text/plain": [
              "1"
            ]
          },
          "metadata": {},
          "execution_count": 7
        }
      ]
    },
    {
      "cell_type": "markdown",
      "source": [
        "**Variable Assignment**"
      ],
      "metadata": {
        "id": "q2aowzXf-u5l"
      }
    },
    {
      "cell_type": "code",
      "source": [
        "# Can not start with number or special characters\n",
        "name_of_var = 2"
      ],
      "metadata": {
        "id": "fBvPX6yl-rne"
      },
      "execution_count": null,
      "outputs": []
    },
    {
      "cell_type": "code",
      "source": [
        "# Cannot start with number\n",
        "10var = 20"
      ],
      "metadata": {
        "colab": {
          "base_uri": "https://localhost:8080/",
          "height": 134
        },
        "id": "PPoY3REw_Anm",
        "outputId": "bc2b4220-61d6-4a43-fb2e-c9ad7f722cff"
      },
      "execution_count": null,
      "outputs": [
        {
          "output_type": "error",
          "ename": "SyntaxError",
          "evalue": "ignored",
          "traceback": [
            "\u001b[0;36m  File \u001b[0;32m\"<ipython-input-9-cb0e387f1626>\"\u001b[0;36m, line \u001b[0;32m1\u001b[0m\n\u001b[0;31m    10var = 20\u001b[0m\n\u001b[0m        ^\u001b[0m\n\u001b[0;31mSyntaxError\u001b[0m\u001b[0;31m:\u001b[0m invalid syntax\n"
          ]
        }
      ]
    },
    {
      "cell_type": "code",
      "source": [
        "# Cannot start with special characters\n",
        "@var = 25"
      ],
      "metadata": {
        "colab": {
          "base_uri": "https://localhost:8080/",
          "height": 134
        },
        "id": "MbyxJfBj_Ddx",
        "outputId": "0e2bc2db-e4a1-4aa0-c329-d507d435928a"
      },
      "execution_count": null,
      "outputs": [
        {
          "output_type": "error",
          "ename": "SyntaxError",
          "evalue": "ignored",
          "traceback": [
            "\u001b[0;36m  File \u001b[0;32m\"<ipython-input-12-fade1d810799>\"\u001b[0;36m, line \u001b[0;32m1\u001b[0m\n\u001b[0;31m    @var = 25\u001b[0m\n\u001b[0m         ^\u001b[0m\n\u001b[0;31mSyntaxError\u001b[0m\u001b[0;31m:\u001b[0m invalid syntax\n"
          ]
        }
      ]
    },
    {
      "cell_type": "markdown",
      "source": [
        "**Lists**"
      ],
      "metadata": {
        "id": "sINom7ayDHOk"
      }
    },
    {
      "cell_type": "code",
      "source": [
        "# nested list\n",
        "\n",
        "nest_list = [1,2,[3,4]]\n",
        "nest_list"
      ],
      "metadata": {
        "colab": {
          "base_uri": "https://localhost:8080/"
        },
        "id": "v6vn2ukZ_Kjf",
        "outputId": "27951199-5ee3-48e9-d2a7-d13243f76f60"
      },
      "execution_count": null,
      "outputs": [
        {
          "output_type": "execute_result",
          "data": {
            "text/plain": [
              "[1, 2, [3, 4]]"
            ]
          },
          "metadata": {},
          "execution_count": 13
        }
      ]
    },
    {
      "cell_type": "code",
      "source": [
        "nest_list[2]"
      ],
      "metadata": {
        "colab": {
          "base_uri": "https://localhost:8080/"
        },
        "id": "Kl4EgnnXDldL",
        "outputId": "6fcae592-80ec-4468-d923-59d8e4f42aea"
      },
      "execution_count": null,
      "outputs": [
        {
          "output_type": "execute_result",
          "data": {
            "text/plain": [
              "[3, 4]"
            ]
          },
          "metadata": {},
          "execution_count": 15
        }
      ]
    },
    {
      "cell_type": "markdown",
      "source": [
        "**Dictionaries**"
      ],
      "metadata": {
        "id": "1-84PsoCE48K"
      }
    },
    {
      "cell_type": "code",
      "source": [
        "# nested dictionaries\n",
        "dct = {'key1':{'innerdict':[1,2]}}"
      ],
      "metadata": {
        "id": "fvIkPAo9E672"
      },
      "execution_count": null,
      "outputs": []
    },
    {
      "cell_type": "code",
      "source": [
        "dct['key1']['innerdict'][1]"
      ],
      "metadata": {
        "colab": {
          "base_uri": "https://localhost:8080/"
        },
        "id": "2TlSNjaJGtPn",
        "outputId": "e331d36c-40c3-4b59-95a6-448775916b1f"
      },
      "execution_count": null,
      "outputs": [
        {
          "output_type": "execute_result",
          "data": {
            "text/plain": [
              "2"
            ]
          },
          "metadata": {},
          "execution_count": 28
        }
      ]
    },
    {
      "cell_type": "markdown",
      "source": [
        "**Map**"
      ],
      "metadata": {
        "id": "EgXe4Wk3FkN6"
      }
    },
    {
      "cell_type": "code",
      "source": [
        "seq = [1,2,3,4,5]\n",
        "\n",
        "list(map(lambda num:num*3, seq))"
      ],
      "metadata": {
        "colab": {
          "base_uri": "https://localhost:8080/"
        },
        "id": "nv6btx6QHRwN",
        "outputId": "afc78ec3-5395-4af4-d049-676bc4ea7a0e"
      },
      "execution_count": null,
      "outputs": [
        {
          "output_type": "execute_result",
          "data": {
            "text/plain": [
              "[3, 6, 9, 12, 15]"
            ]
          },
          "metadata": {},
          "execution_count": 29
        }
      ]
    },
    {
      "cell_type": "markdown",
      "source": [
        "**Filter**"
      ],
      "metadata": {
        "id": "vSSYG7ePF4nd"
      }
    },
    {
      "cell_type": "code",
      "source": [
        "# filter even numbers\n",
        "list(filter(lambda num:num%2 ==0, seq))"
      ],
      "metadata": {
        "colab": {
          "base_uri": "https://localhost:8080/"
        },
        "id": "8fSQXwhpF6FP",
        "outputId": "73619ee0-2c9c-4203-89db-8dc4e64e707d"
      },
      "execution_count": null,
      "outputs": [
        {
          "output_type": "execute_result",
          "data": {
            "text/plain": [
              "[2, 4]"
            ]
          },
          "metadata": {},
          "execution_count": 30
        }
      ]
    },
    {
      "cell_type": "code",
      "source": [
        "# tuple unpacking\n",
        "\n",
        "x = [(1,2),(3,4),(5,6)]\n",
        "\n",
        "for a,b in x:\n",
        "    print(a)\n",
        "    print(b)"
      ],
      "metadata": {
        "colab": {
          "base_uri": "https://localhost:8080/"
        },
        "id": "M7WIXk3oJlxh",
        "outputId": "355b8c77-5050-4161-bb8c-c62b297fbe0e"
      },
      "execution_count": null,
      "outputs": [
        {
          "output_type": "stream",
          "name": "stdout",
          "text": [
            "1\n",
            "2\n",
            "3\n",
            "4\n",
            "5\n",
            "6\n"
          ]
        }
      ]
    },
    {
      "cell_type": "markdown",
      "source": [
        "**Exercises**"
      ],
      "metadata": {
        "id": "I-V7NX0wKNqt"
      }
    },
    {
      "cell_type": "markdown",
      "source": [
        "1.What is 7 to the power of 4?"
      ],
      "metadata": {
        "id": "2bGPIluJKQ3x"
      }
    },
    {
      "cell_type": "code",
      "source": [
        "7**4"
      ],
      "metadata": {
        "colab": {
          "base_uri": "https://localhost:8080/"
        },
        "id": "Qy5S2nwQKOec",
        "outputId": "ec04318c-961b-45fe-88a5-166764ea58fb"
      },
      "execution_count": null,
      "outputs": [
        {
          "output_type": "execute_result",
          "data": {
            "text/plain": [
              "2401"
            ]
          },
          "metadata": {},
          "execution_count": 32
        }
      ]
    },
    {
      "cell_type": "markdown",
      "source": [
        "2. Split this string:\n",
        "\n",
        "    s = \"Hi there Sam!\"\n",
        "\n",
        "into a list."
      ],
      "metadata": {
        "id": "GE6p29cbKYH_"
      }
    },
    {
      "cell_type": "code",
      "source": [
        "s = \"Hi there Sam!\"\n",
        "string = s.split()\n",
        "string"
      ],
      "metadata": {
        "colab": {
          "base_uri": "https://localhost:8080/"
        },
        "id": "JkqvGsPjKZWo",
        "outputId": "fbc3988b-0e8f-45bb-9bc8-768f1d4c12d5"
      },
      "execution_count": null,
      "outputs": [
        {
          "output_type": "execute_result",
          "data": {
            "text/plain": [
              "['Hi', 'there', 'Sam!']"
            ]
          },
          "metadata": {},
          "execution_count": 34
        }
      ]
    },
    {
      "cell_type": "markdown",
      "source": [
        "3.Given the variables:\n",
        "\n",
        "planet = \"Earth\"\n",
        "diameter = 12742\n",
        "\n",
        "** Use .format() to print the following string: **\n",
        "\n",
        "The diameter of Earth is 12742 kilometers."
      ],
      "metadata": {
        "id": "Mv0OasIbKyEp"
      }
    },
    {
      "cell_type": "code",
      "source": [
        "planet = \"Earth\" \n",
        "diameter = 12742\n",
        "\n",
        "string = \"The diameter of {} is {} kilometers\" .format(planet,diameter)\n",
        "string"
      ],
      "metadata": {
        "colab": {
          "base_uri": "https://localhost:8080/",
          "height": 36
        },
        "id": "B3rpu1xXK01c",
        "outputId": "a42e65f3-bead-4ea4-818e-9dc3fe99d2cb"
      },
      "execution_count": null,
      "outputs": [
        {
          "output_type": "execute_result",
          "data": {
            "text/plain": [
              "'The diameter of Earth is 12742 kilometers'"
            ],
            "application/vnd.google.colaboratory.intrinsic+json": {
              "type": "string"
            }
          },
          "metadata": {},
          "execution_count": 38
        }
      ]
    },
    {
      "cell_type": "markdown",
      "source": [
        "4.** Given this nested list, use indexing to grab the word \"hello\" **"
      ],
      "metadata": {
        "id": "lQVzbyzKLnM8"
      }
    },
    {
      "cell_type": "code",
      "source": [
        "lst = [1,2,[3,4],[5,[100,200,['hello']],23,11],1,7]\n",
        "\n",
        "lst[3][1][2]"
      ],
      "metadata": {
        "colab": {
          "base_uri": "https://localhost:8080/"
        },
        "id": "2-YZwec_Lpme",
        "outputId": "230c5ca3-c24b-46b3-963a-bf3e1036f319"
      },
      "execution_count": null,
      "outputs": [
        {
          "output_type": "execute_result",
          "data": {
            "text/plain": [
              "['hello']"
            ]
          },
          "metadata": {},
          "execution_count": 47
        }
      ]
    },
    {
      "cell_type": "markdown",
      "source": [
        "5.Given this nested dictionary grab the word \"hello\". Be prepared, this will be annoying/tricky"
      ],
      "metadata": {
        "id": "C5RkA0o3Lo90"
      }
    },
    {
      "cell_type": "code",
      "source": [
        "d = {'k1':[1,2,3,{'tricky':['oh','man','inception',{'target':[1,2,3,'hello']}]}]}\n",
        "\n",
        "d['k1'][3]['tricky'][3]['target'][3]"
      ],
      "metadata": {
        "colab": {
          "base_uri": "https://localhost:8080/",
          "height": 36
        },
        "id": "HWKHAjPhMQCV",
        "outputId": "10952c5c-090d-43f2-a6ba-0a8f365a2d5b"
      },
      "execution_count": null,
      "outputs": [
        {
          "output_type": "execute_result",
          "data": {
            "text/plain": [
              "'hello'"
            ],
            "application/vnd.google.colaboratory.intrinsic+json": {
              "type": "string"
            }
          },
          "metadata": {},
          "execution_count": 72
        }
      ]
    },
    {
      "cell_type": "markdown",
      "source": [
        "6.What is the main difference between a tuple and a list?"
      ],
      "metadata": {
        "id": "9RCMRqYjQGpT"
      }
    },
    {
      "cell_type": "markdown",
      "source": [
        "Tuple is immutable"
      ],
      "metadata": {
        "id": "ED5MPL7dQHwa"
      }
    },
    {
      "cell_type": "markdown",
      "source": [
        "7.Create a function that grabs the email website domain from a string in the form:\n",
        "\n",
        "user@domain.com\n",
        "\n",
        "So for example, passing \"user@domain.com\" would return: domain.com"
      ],
      "metadata": {
        "id": "FGb7uAEsQMNa"
      }
    },
    {
      "cell_type": "code",
      "source": [
        "def domainGet(email):\n",
        "   return email.split('@')[1]"
      ],
      "metadata": {
        "id": "Kw98JrBgQjVk"
      },
      "execution_count": null,
      "outputs": []
    },
    {
      "cell_type": "code",
      "source": [
        "domainGet('user@domain.com')"
      ],
      "metadata": {
        "colab": {
          "base_uri": "https://localhost:8080/",
          "height": 36
        },
        "id": "pY3cSTBJQRvE",
        "outputId": "6cf7cea5-f34a-4510-9497-8b7860d4e3e2"
      },
      "execution_count": null,
      "outputs": [
        {
          "output_type": "execute_result",
          "data": {
            "text/plain": [
              "'domain.com'"
            ],
            "application/vnd.google.colaboratory.intrinsic+json": {
              "type": "string"
            }
          },
          "metadata": {},
          "execution_count": 88
        }
      ]
    },
    {
      "cell_type": "markdown",
      "source": [
        "8. Create a basic function that returns True if the word 'dog' is contained in the input string. Don't worry about edge cases like a punctuation being attached to the word dog, but do account for capitalization."
      ],
      "metadata": {
        "id": "LKN15sByRU8x"
      }
    },
    {
      "cell_type": "code",
      "source": [
        "def findDog(sentence):\n",
        "    if sentence.find('dog'):\n",
        "      return True"
      ],
      "metadata": {
        "id": "seGoEb0kRZda"
      },
      "execution_count": null,
      "outputs": []
    },
    {
      "cell_type": "code",
      "source": [
        "findDog('Is there a dog here?')"
      ],
      "metadata": {
        "colab": {
          "base_uri": "https://localhost:8080/"
        },
        "id": "-aUkMS3fSLjb",
        "outputId": "52e80dea-ed21-40d0-f082-148d12201ff4"
      },
      "execution_count": null,
      "outputs": [
        {
          "output_type": "execute_result",
          "data": {
            "text/plain": [
              "True"
            ]
          },
          "metadata": {},
          "execution_count": 90
        }
      ]
    },
    {
      "cell_type": "markdown",
      "source": [
        "9.Create a function that counts the number of times the word \"dog\" occurs in a string. Again ignore edge cases. "
      ],
      "metadata": {
        "id": "fGZPtRntSOl_"
      }
    },
    {
      "cell_type": "code",
      "source": [
        "def countDog(st):\n",
        "    count = 0\n",
        "    for word in st.lower().split():\n",
        "        if word == 'dog':\n",
        "           count += 1\n",
        "    return count"
      ],
      "metadata": {
        "id": "ks0x7ox9SV3i"
      },
      "execution_count": null,
      "outputs": []
    },
    {
      "cell_type": "code",
      "source": [
        "countDog('This dog runs faster than the other dog dude!')"
      ],
      "metadata": {
        "colab": {
          "base_uri": "https://localhost:8080/"
        },
        "id": "G0aHXXLOSSee",
        "outputId": "ec2527c1-2bff-4891-8023-2644d218af4f"
      },
      "execution_count": null,
      "outputs": [
        {
          "output_type": "execute_result",
          "data": {
            "text/plain": [
              "2"
            ]
          },
          "metadata": {},
          "execution_count": 129
        }
      ]
    },
    {
      "cell_type": "markdown",
      "source": [
        "10.Use lambda expressions and the filter() function to filter out words from a list that don't start with the letter 's'. For example:**\n",
        "\n",
        "seq = ['soup','dog','salad','cat','great']\n",
        "\n",
        "should be filtered down to:\n",
        "\n",
        "['soup','salad']"
      ],
      "metadata": {
        "id": "cxNPEJceS_dm"
      }
    },
    {
      "cell_type": "code",
      "source": [
        "seq = ['soup','dog','salad','cat','great']"
      ],
      "metadata": {
        "id": "pw9W4t0CTB2Q"
      },
      "execution_count": null,
      "outputs": []
    },
    {
      "cell_type": "code",
      "source": [
        "list(filter(lambda x:x.startswith('s'),seq))"
      ],
      "metadata": {
        "colab": {
          "base_uri": "https://localhost:8080/"
        },
        "id": "idc_JKBzTJ0a",
        "outputId": "b90ca874-e172-4acd-b109-86ddf9b4586a"
      },
      "execution_count": null,
      "outputs": [
        {
          "output_type": "execute_result",
          "data": {
            "text/plain": [
              "['soup', 'salad']"
            ]
          },
          "metadata": {},
          "execution_count": 99
        }
      ]
    },
    {
      "cell_type": "markdown",
      "source": [
        "11.You are driving a little too fast, and a police officer stops you. Write a function to return one of 3 possible results: \"No ticket\", \"Small ticket\", or \"Big Ticket\". If your speed is 60 or less, the result is \"No Ticket\". If speed is between 61 and 80 inclusive, the result is \"Small Ticket\". If speed is 81 or more, the result is \"Big Ticket\". Unless it is your birthday (encoded as a boolean value in the parameters of the function) -- on your birthday, your speed can be 5 higher in all cases."
      ],
      "metadata": {
        "id": "BaIJQglATyNR"
      }
    },
    {
      "cell_type": "code",
      "source": [
        "def caught_speeding(speed, is_birthday):\n",
        "\n",
        "    if is_birthday:\n",
        "      speedlimit = speed -5\n",
        "    else:\n",
        "      speedlimit = speed\n",
        "\n",
        "    if speedlimit <= 60:\n",
        "       print('No ticket')\n",
        "\n",
        "    elif speedlimit >=61 and speedlimit <=80:\n",
        "       print('Small ticket')\n",
        "\n",
        "    else:\n",
        "       print('Big Ticket')"
      ],
      "metadata": {
        "id": "fb_Q4v2aT6yD"
      },
      "execution_count": null,
      "outputs": []
    },
    {
      "cell_type": "code",
      "source": [
        "caught_speeding(81,True)"
      ],
      "metadata": {
        "colab": {
          "base_uri": "https://localhost:8080/"
        },
        "id": "NsGzeHzeU9DQ",
        "outputId": "4d0290fe-617c-4fb3-a04c-3998f0394690"
      },
      "execution_count": null,
      "outputs": [
        {
          "output_type": "stream",
          "name": "stdout",
          "text": [
            "Small ticket\n"
          ]
        }
      ]
    },
    {
      "cell_type": "code",
      "source": [
        "caught_speeding(81,False)"
      ],
      "metadata": {
        "colab": {
          "base_uri": "https://localhost:8080/"
        },
        "id": "g0xFC1IdU_u6",
        "outputId": "9a8b1afc-df3d-457a-d3b7-f1bee34b46dc"
      },
      "execution_count": null,
      "outputs": [
        {
          "output_type": "stream",
          "name": "stdout",
          "text": [
            "Big Ticket\n"
          ]
        }
      ]
    }
  ]
}