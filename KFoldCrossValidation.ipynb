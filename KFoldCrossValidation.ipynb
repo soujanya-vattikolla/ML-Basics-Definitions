{
  "nbformat": 4,
  "nbformat_minor": 0,
  "metadata": {
    "colab": {
      "name": "K Fold Cross Validation.ipynb",
      "provenance": [],
      "collapsed_sections": [],
      "authorship_tag": "ABX9TyMFVb3CnhP5atEMceeFWHDf",
      "include_colab_link": true
    },
    "kernelspec": {
      "name": "python3",
      "display_name": "Python 3"
    },
    "language_info": {
      "name": "python"
    }
  },
  "cells": [
    {
      "cell_type": "markdown",
      "metadata": {
        "id": "view-in-github",
        "colab_type": "text"
      },
      "source": [
        "<a href=\"https://colab.research.google.com/github/soujanya-vattikolla/ML-Basics-Definitions/blob/main/KFoldCrossValidation.ipynb\" target=\"_parent\"><img src=\"https://colab.research.google.com/assets/colab-badge.svg\" alt=\"Open In Colab\"/></a>"
      ]
    },
    {
      "cell_type": "markdown",
      "source": [
        "Exercise\n",
        "\n",
        "Use iris flower dataset from sklearn library and use cross_val_score against following models to measure the performance of each. In the end figure out the model with best performance,\n",
        "\n",
        "1. Logistic Regression\n",
        "2. SVM\n",
        "3. Decision Tree\n",
        "4. Random Forest"
      ],
      "metadata": {
        "id": "bO6ObeT0Z4I4"
      }
    },
    {
      "cell_type": "code",
      "source": [
        "# import required libraries\n",
        "\n",
        "from sklearn.linear_model import LogisticRegression\n",
        "from sklearn.ensemble import RandomForestClassifier\n",
        "from sklearn.svm import SVC\n",
        "from sklearn.tree import DecisionTreeClassifier\n",
        "import numpy as np\n",
        "from sklearn.datasets import load_iris"
      ],
      "metadata": {
        "id": "8J498DB1NzF2"
      },
      "execution_count": 46,
      "outputs": []
    },
    {
      "cell_type": "code",
      "source": [
        "# loading iris dataset\n",
        "\n",
        "iris_dataset = load_iris()"
      ],
      "metadata": {
        "id": "JQKxAT5PTi8P"
      },
      "execution_count": 47,
      "outputs": []
    },
    {
      "cell_type": "code",
      "source": [
        "X = iris_dataset.data\n",
        "y = iris_dataset.target"
      ],
      "metadata": {
        "id": "eiqtiDfxUiZ_"
      },
      "execution_count": 48,
      "outputs": []
    },
    {
      "cell_type": "code",
      "source": [
        "from sklearn.model_selection import train_test_split\n",
        "X_train,X_test,y_train,y_test = train_test_split(X,y,test_size=0.3)"
      ],
      "metadata": {
        "id": "OutYljwxTxz3"
      },
      "execution_count": 49,
      "outputs": []
    },
    {
      "cell_type": "code",
      "source": [
        "# Logistic Regression\n",
        "\n",
        "logreg = LogisticRegression(solver='liblinear')\n",
        "logreg.fit(X_train,y_train)\n",
        "logreg.score(X_test,y_test)"
      ],
      "metadata": {
        "colab": {
          "base_uri": "https://localhost:8080/"
        },
        "id": "zp5piFyFUtnm",
        "outputId": "71c427b4-a91a-4703-f6ee-0a05b447b493"
      },
      "execution_count": 50,
      "outputs": [
        {
          "output_type": "execute_result",
          "data": {
            "text/plain": [
              "0.9555555555555556"
            ]
          },
          "metadata": {},
          "execution_count": 50
        }
      ]
    },
    {
      "cell_type": "code",
      "source": [
        "# SVM\n",
        "\n",
        "svmmodel = SVC(gamma='auto')\n",
        "svmmodel.fit(X_train,y_train)\n",
        "svmmodel.score(X_test,y_test)"
      ],
      "metadata": {
        "colab": {
          "base_uri": "https://localhost:8080/"
        },
        "id": "T-J67IixWXWD",
        "outputId": "208005f2-761d-4f24-c17a-300e3b0906f8"
      },
      "execution_count": 51,
      "outputs": [
        {
          "output_type": "execute_result",
          "data": {
            "text/plain": [
              "0.9555555555555556"
            ]
          },
          "metadata": {},
          "execution_count": 51
        }
      ]
    },
    {
      "cell_type": "code",
      "source": [
        "# RandomForestClassifier\n",
        "\n",
        "rf = RandomForestClassifier(n_estimators=90)\n",
        "rf.fit(X_train,y_train)\n",
        "rf.score(X_test,y_test)"
      ],
      "metadata": {
        "colab": {
          "base_uri": "https://localhost:8080/"
        },
        "id": "h-mGTqh8WXf5",
        "outputId": "e880e37c-e8ef-4f29-9672-d8555222e033"
      },
      "execution_count": 52,
      "outputs": [
        {
          "output_type": "execute_result",
          "data": {
            "text/plain": [
              "0.9777777777777777"
            ]
          },
          "metadata": {},
          "execution_count": 52
        }
      ]
    },
    {
      "cell_type": "code",
      "source": [
        "# DecisionTreeClassifier\n",
        "\n",
        "dt = DecisionTreeClassifier()\n",
        "dt.fit(X_train,y_train)\n",
        "dt.score(X_test,y_test)"
      ],
      "metadata": {
        "colab": {
          "base_uri": "https://localhost:8080/"
        },
        "id": "Xp79OlN6bjvr",
        "outputId": "6fc7577a-986c-4d56-f749-39cff20d5201"
      },
      "execution_count": 53,
      "outputs": [
        {
          "output_type": "execute_result",
          "data": {
            "text/plain": [
              "0.9777777777777777"
            ]
          },
          "metadata": {},
          "execution_count": 53
        }
      ]
    },
    {
      "cell_type": "markdown",
      "source": [
        "KFold cross validation"
      ],
      "metadata": {
        "id": "trsCcnr6XE4f"
      }
    },
    {
      "cell_type": "code",
      "source": [
        "def get_score(model,X_train,X_test,y_train,y_test):\n",
        "    model.fit(X_train,y_train)\n",
        "    return model.score(X_test,y_test)"
      ],
      "metadata": {
        "id": "9_zY_I3YWXkX"
      },
      "execution_count": 54,
      "outputs": []
    },
    {
      "cell_type": "code",
      "source": [
        "from sklearn.model_selection import StratifiedKFold\n",
        "folds = StratifiedKFold(n_splits=3)\n",
        "\n",
        "scores_Logistic = []\n",
        "scores_SVM = []\n",
        "scores_RandomForestClassifier = []\n",
        "scores_DecisionTree = []\n",
        "\n",
        "for train_index,test_index in folds.split(X,y):\n",
        "  X_train,X_test,y_train,y_test = X[train_index],X[test_index],y[train_index],y[test_index]\n",
        "  \n",
        "  # appending the scores\n",
        "  scores_Logistic.append(get_score(LogisticRegression(solver='liblinear'),X_train,X_test,y_train,y_test))\n",
        "  scores_SVM.append(get_score(SVC(gamma='auto'),X_train,X_test,y_train,y_test))\n",
        "  scores_RandomForestClassifier.append(get_score(RandomForestClassifier(n_estimators=90),X_train,X_test,y_train,y_test))\n",
        "  scores_DecisionTree.append(get_score(DecisionTreeClassifier(),X_train,X_test,y_train,y_test))\n"
      ],
      "metadata": {
        "id": "mZKqSP5rXqGw"
      },
      "execution_count": 55,
      "outputs": []
    },
    {
      "cell_type": "code",
      "source": [
        "scores_Logistic"
      ],
      "metadata": {
        "colab": {
          "base_uri": "https://localhost:8080/"
        },
        "id": "vGb7kWIRXqMQ",
        "outputId": "9d7cd6f7-3f9d-4214-a572-c91c15e3a9b9"
      },
      "execution_count": 56,
      "outputs": [
        {
          "output_type": "execute_result",
          "data": {
            "text/plain": [
              "[0.96, 0.96, 0.94]"
            ]
          },
          "metadata": {},
          "execution_count": 56
        }
      ]
    },
    {
      "cell_type": "code",
      "source": [
        "scores_SVM"
      ],
      "metadata": {
        "colab": {
          "base_uri": "https://localhost:8080/"
        },
        "id": "jbD_uHvrUtw5",
        "outputId": "cf6f08af-aa70-40da-b6b0-20fbc615fa2c"
      },
      "execution_count": 57,
      "outputs": [
        {
          "output_type": "execute_result",
          "data": {
            "text/plain": [
              "[0.98, 0.98, 0.96]"
            ]
          },
          "metadata": {},
          "execution_count": 57
        }
      ]
    },
    {
      "cell_type": "code",
      "source": [
        "scores_RandomForestClassifier"
      ],
      "metadata": {
        "colab": {
          "base_uri": "https://localhost:8080/"
        },
        "id": "91F9cjHDUt0D",
        "outputId": "0df11a7d-b0ac-4912-ceaf-d48901319d1a"
      },
      "execution_count": 58,
      "outputs": [
        {
          "output_type": "execute_result",
          "data": {
            "text/plain": [
              "[0.98, 0.94, 0.96]"
            ]
          },
          "metadata": {},
          "execution_count": 58
        }
      ]
    },
    {
      "cell_type": "code",
      "source": [
        "scores_DecisionTree"
      ],
      "metadata": {
        "colab": {
          "base_uri": "https://localhost:8080/"
        },
        "id": "2OXk7t7ocI26",
        "outputId": "01f0c84f-cad8-4ddb-b013-41f93e051439"
      },
      "execution_count": 59,
      "outputs": [
        {
          "output_type": "execute_result",
          "data": {
            "text/plain": [
              "[0.98, 0.94, 0.98]"
            ]
          },
          "metadata": {},
          "execution_count": 59
        }
      ]
    },
    {
      "cell_type": "markdown",
      "source": [
        "Using cross_val_score function"
      ],
      "metadata": {
        "id": "f-5HiEsWZpIB"
      }
    },
    {
      "cell_type": "code",
      "source": [
        "from sklearn.model_selection import cross_val_score"
      ],
      "metadata": {
        "id": "fReYxuigZefm"
      },
      "execution_count": 60,
      "outputs": []
    },
    {
      "cell_type": "markdown",
      "source": [
        "Logistic regression model performance using cross_val_score"
      ],
      "metadata": {
        "id": "-EIUUtzFaFgO"
      }
    },
    {
      "cell_type": "code",
      "source": [
        "logistic_scores = cross_val_score(LogisticRegression(solver='liblinear'),X,y,cv=3)\n",
        "logistic_scores"
      ],
      "metadata": {
        "colab": {
          "base_uri": "https://localhost:8080/"
        },
        "id": "MkYko9-NZeqH",
        "outputId": "2da7404e-77dc-43a1-a2b7-37fa277a1adf"
      },
      "execution_count": 61,
      "outputs": [
        {
          "output_type": "execute_result",
          "data": {
            "text/plain": [
              "array([0.96, 0.96, 0.94])"
            ]
          },
          "metadata": {},
          "execution_count": 61
        }
      ]
    },
    {
      "cell_type": "code",
      "source": [
        "np.average(logistic_scores)"
      ],
      "metadata": {
        "colab": {
          "base_uri": "https://localhost:8080/"
        },
        "id": "14rJ_zBWbIcS",
        "outputId": "c292c075-d6d2-4a5e-bc8c-3bb35b1df8a1"
      },
      "execution_count": 62,
      "outputs": [
        {
          "output_type": "execute_result",
          "data": {
            "text/plain": [
              "0.9533333333333333"
            ]
          },
          "metadata": {},
          "execution_count": 62
        }
      ]
    },
    {
      "cell_type": "markdown",
      "source": [
        "SVM model performance using cross_val_score"
      ],
      "metadata": {
        "id": "bRN0Y4Wwanc9"
      }
    },
    {
      "cell_type": "code",
      "source": [
        "svm_scores = cross_val_score(SVC(gamma='auto'),X,y,cv=3)\n",
        "svm_scores"
      ],
      "metadata": {
        "colab": {
          "base_uri": "https://localhost:8080/"
        },
        "id": "0dAo5C9hZet5",
        "outputId": "21e6ae18-269b-4fa0-a02f-07c88c14896a"
      },
      "execution_count": 63,
      "outputs": [
        {
          "output_type": "execute_result",
          "data": {
            "text/plain": [
              "array([0.98, 0.98, 0.96])"
            ]
          },
          "metadata": {},
          "execution_count": 63
        }
      ]
    },
    {
      "cell_type": "code",
      "source": [
        "np.average(svm_scores)"
      ],
      "metadata": {
        "colab": {
          "base_uri": "https://localhost:8080/"
        },
        "id": "7pYq_f1zbOCj",
        "outputId": "2613d1ae-4a15-45f3-a057-dfa5afb7952b"
      },
      "execution_count": 64,
      "outputs": [
        {
          "output_type": "execute_result",
          "data": {
            "text/plain": [
              "0.9733333333333333"
            ]
          },
          "metadata": {},
          "execution_count": 64
        }
      ]
    },
    {
      "cell_type": "markdown",
      "source": [
        "random forest performance using cross_val_score"
      ],
      "metadata": {
        "id": "j03vPNwgaxED"
      }
    },
    {
      "cell_type": "code",
      "source": [
        "random_scores = cross_val_score(RandomForestClassifier(n_estimators=90),X,y,cv=3)\n",
        "random_scores"
      ],
      "metadata": {
        "colab": {
          "base_uri": "https://localhost:8080/"
        },
        "id": "6IJC6oDuaxyu",
        "outputId": "addbd0b4-9d5a-4336-9fba-c7c767596e0a"
      },
      "execution_count": 65,
      "outputs": [
        {
          "output_type": "execute_result",
          "data": {
            "text/plain": [
              "array([0.98, 0.94, 0.96])"
            ]
          },
          "metadata": {},
          "execution_count": 65
        }
      ]
    },
    {
      "cell_type": "code",
      "source": [
        "np.average(random_scores)"
      ],
      "metadata": {
        "colab": {
          "base_uri": "https://localhost:8080/"
        },
        "id": "FEBS2SPDbVNF",
        "outputId": "78935da7-8614-40d6-fbc3-e46815058f49"
      },
      "execution_count": 66,
      "outputs": [
        {
          "output_type": "execute_result",
          "data": {
            "text/plain": [
              "0.96"
            ]
          },
          "metadata": {},
          "execution_count": 66
        }
      ]
    },
    {
      "cell_type": "markdown",
      "source": [
        "Decision Tree performance using cross_val_score"
      ],
      "metadata": {
        "id": "xINpkCJNcNKF"
      }
    },
    {
      "cell_type": "code",
      "source": [
        "decision_scores = cross_val_score(DecisionTreeClassifier(),X,y,cv=3)\n",
        "decision_scores"
      ],
      "metadata": {
        "colab": {
          "base_uri": "https://localhost:8080/"
        },
        "id": "eojrTQ04cMu1",
        "outputId": "2e802d1e-55dd-44d1-c25c-ba8cbd59b6ac"
      },
      "execution_count": 67,
      "outputs": [
        {
          "output_type": "execute_result",
          "data": {
            "text/plain": [
              "array([0.98, 0.94, 0.96])"
            ]
          },
          "metadata": {},
          "execution_count": 67
        }
      ]
    },
    {
      "cell_type": "code",
      "source": [
        "np.average(decision_scores)"
      ],
      "metadata": {
        "colab": {
          "base_uri": "https://localhost:8080/"
        },
        "id": "NawWTL7VcW4Q",
        "outputId": "43cee6ae-8aef-43f2-850b-f16162919e58"
      },
      "execution_count": 68,
      "outputs": [
        {
          "output_type": "execute_result",
          "data": {
            "text/plain": [
              "0.96"
            ]
          },
          "metadata": {},
          "execution_count": 68
        }
      ]
    },
    {
      "cell_type": "markdown",
      "source": [
        "We can observe that SVM is giving a accuracy of 97%"
      ],
      "metadata": {
        "id": "5vZq-oOgceiv"
      }
    }
  ]
}