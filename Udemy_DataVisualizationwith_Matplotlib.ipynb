{
  "nbformat": 4,
  "nbformat_minor": 0,
  "metadata": {
    "colab": {
      "name": "Udemy_DataVisualizationwith_Matplotlib.ipynb",
      "provenance": [],
      "collapsed_sections": [],
      "authorship_tag": "ABX9TyODKwVDb/LOEyuf6WInx+d0",
      "include_colab_link": true
    },
    "kernelspec": {
      "name": "python3",
      "display_name": "Python 3"
    },
    "language_info": {
      "name": "python"
    }
  },
  "cells": [
    {
      "cell_type": "markdown",
      "metadata": {
        "id": "view-in-github",
        "colab_type": "text"
      },
      "source": [
        "<a href=\"https://colab.research.google.com/github/soujanya-vattikolla/ML-Basics-Definitions/blob/main/Udemy_DataVisualizationwith_Matplotlib.ipynb\" target=\"_parent\"><img src=\"https://colab.research.google.com/assets/colab-badge.svg\" alt=\"Open In Colab\"/></a>"
      ]
    },
    {
      "cell_type": "markdown",
      "source": [
        "**Matplotlib Exercises**"
      ],
      "metadata": {
        "id": "OGZ6Xjt7ntvI"
      }
    },
    {
      "cell_type": "markdown",
      "source": [
        "Exercises\n",
        "\n",
        "Follow the instructions to recreate the plots using this data:\n",
        "\n",
        "Data"
      ],
      "metadata": {
        "id": "wSMbFh26n66W"
      }
    },
    {
      "cell_type": "code",
      "source": [
        "import numpy as np\n",
        "x = np.arange(0,100)\n",
        "y = x*2\n",
        "z = x*2"
      ],
      "metadata": {
        "id": "joGuAcrEnxBF"
      },
      "execution_count": 1,
      "outputs": []
    },
    {
      "cell_type": "markdown",
      "source": [
        "** Import matplotlib.pyplot as plt and set %matplotlib inline if you are using the jupyter notebook. What command do you use if you aren't using the jupyter notebook?**"
      ],
      "metadata": {
        "id": "fH8kxYHroKdV"
      }
    },
    {
      "cell_type": "code",
      "source": [
        "import matplotlib.pyplot as plt\n",
        "%matplotlib inline"
      ],
      "metadata": {
        "id": "i1D-8GmCoLN2"
      },
      "execution_count": 2,
      "outputs": []
    },
    {
      "cell_type": "markdown",
      "source": [
        "Exercise 1\n",
        "\n",
        "** Follow along with these steps: **\n",
        "\n",
        "** Create a figure object called fig using plt.figure() **\n",
        "\n",
        "** Use add_axes to add an axis to the figure canvas at [0,0,1,1]. Call this new axis ax. **\n",
        "\n",
        "** Plot (x,y) on that axes and set the labels and titles to match the plot below:**"
      ],
      "metadata": {
        "id": "JJO_wt_EoTK9"
      }
    },
    {
      "cell_type": "code",
      "source": [
        "# Create Figure (empty canvas)\n",
        "fig = plt.figure()\n",
        "\n",
        "# Add set of axes to figure\n",
        "axes = fig.add_axes([0,0,1,1]) # left, bottom, width, height (range 0 to 1)\n",
        "\n",
        "# Plot on that set of axes\n",
        "axes.plot(x,y)\n",
        "axes.set_xlabel('x')\n",
        "axes.set_ylabel('y')\n",
        "axes.set_title('title')\n",
        "plt.show()"
      ],
      "metadata": {
        "colab": {
          "base_uri": "https://localhost:8080/",
          "height": 366
        },
        "id": "iZTlHQnNoVV2",
        "outputId": "2899aaed-afd7-490e-a5a4-e1427a489679"
      },
      "execution_count": 3,
      "outputs": [
        {
          "output_type": "display_data",
          "data": {
            "text/plain": [
              "<Figure size 432x288 with 1 Axes>"
            ],
            "image/png": "[encoded data removed]"
          },
          "metadata": {
            "needs_background": "light"
          }
        }
      ]
    },
    {
      "cell_type": "markdown",
      "source": [
        "Exercise 2\n",
        "\n",
        "** Create a figure object and put two axes on it, ax1 and ax2. Located at [0,0,1,1] and [0.2,0.5,.2,.2] respectively.**"
      ],
      "metadata": {
        "id": "wm-1yFQUpQYC"
      }
    },
    {
      "cell_type": "code",
      "source": [
        "fig = plt.figure()\n",
        "\n",
        "ax1 = fig.add_axes([0,0,1,1])\n",
        "ax2 = fig.add_axes([0.2,0.5,.2,.2])\n",
        "\n"
      ],
      "metadata": {
        "colab": {
          "base_uri": "https://localhost:8080/",
          "height": 340
        },
        "id": "vavEZ-clpS3W",
        "outputId": "b1f06dbb-f0bd-4c07-8829-97a498a23d21"
      },
      "execution_count": 4,
      "outputs": [
        {
          "output_type": "display_data",
          "data": {
            "text/plain": [
              "<Figure size 432x288 with 2 Axes>"
            ],
            "image/png": "[encoded data removed]"
          },
          "metadata": {
            "needs_background": "light"
          }
        }
      ]
    },
    {
      "cell_type": "code",
      "source": [
        "fig = plt.figure()\n",
        "\n",
        "ax1 = fig.add_axes([0,0,1,1])\n",
        "ax2 = fig.add_axes([0.2,0.5,.2,.2])\n",
        "\n",
        "ax1.plot(x,y, 'r')\n",
        "ax2.plot(x,y, color='red')\n",
        "\n",
        "ax1.set_xlabel('x')\n",
        "ax1.set_ylabel('y')\n",
        "\n",
        "ax2.set_xlabel('x')\n",
        "ax2.set_ylabel('y')"
      ],
      "metadata": {
        "colab": {
          "base_uri": "https://localhost:8080/",
          "height": 368
        },
        "id": "-hHa_66Pp9c1",
        "outputId": "332d3c5d-82bf-4374-9c19-5c1f1d37d35d"
      },
      "execution_count": 5,
      "outputs": [
        {
          "output_type": "execute_result",
          "data": {
            "text/plain": [
              "Text(0, 0.5, 'y')"
            ]
          },
          "metadata": {},
          "execution_count": 5
        },
        {
          "output_type": "display_data",
          "data": {
            "text/plain": [
              "<Figure size 432x288 with 2 Axes>"
            ],
            "image/png": "[encoded data removed]"
          },
          "metadata": {
            "needs_background": "light"
          }
        }
      ]
    },
    {
      "cell_type": "markdown",
      "source": [
        "Exercise 3\n",
        "\n",
        "** Create the plot below by adding two axes to a figure object at [0,0,1,1] and [0.2,0.5,.4,.4]**"
      ],
      "metadata": {
        "id": "7MTjpJM5qapX"
      }
    },
    {
      "cell_type": "code",
      "source": [
        "fig = plt.figure()\n",
        "\n",
        "axes1 = fig.add_axes([0,0,1,1])\n",
        "axes2 = fig.add_axes([0.2,0.5,.4,.4])"
      ],
      "metadata": {
        "colab": {
          "base_uri": "https://localhost:8080/",
          "height": 340
        },
        "id": "EWVyYuq-qcVc",
        "outputId": "128d5b1c-0e47-4d3b-c03f-5ac0ae1d396e"
      },
      "execution_count": 6,
      "outputs": [
        {
          "output_type": "display_data",
          "data": {
            "text/plain": [
              "<Figure size 432x288 with 2 Axes>"
            ],
            "image/png": "[encoded data removed]"
          },
          "metadata": {
            "needs_background": "light"
          }
        }
      ]
    },
    {
      "cell_type": "markdown",
      "source": [
        "** Now use x,y, and z arrays to recreate the plot below. Notice the xlimits and y limits on the inserted plot:**"
      ],
      "metadata": {
        "id": "36nm-X7OsFQW"
      }
    },
    {
      "cell_type": "code",
      "source": [
        "fig = plt.figure()\n",
        "\n",
        "axes1 = fig.add_axes([0,0,1,1])\n",
        "axes2 = fig.add_axes([0.2,0.5,.4,.4])\n",
        "\n",
        "axes1.plot(x,z)\n",
        "axes1.set_xlabel('X')\n",
        "axes1.set_ylabel('Z')\n",
        "\n",
        "axes2.plot(x,y)\n",
        "axes2.set_xlabel('X')\n",
        "axes2.set_ylabel('Y')\n",
        "axes2.set_title('zoom')\n",
        "axes2.set_xlim(20,22)\n",
        "axes2.set_ylim(30,50)\n",
        "\n",
        "plt.show()"
      ],
      "metadata": {
        "colab": {
          "base_uri": "https://localhost:8080/",
          "height": 350
        },
        "id": "yxAwitAQsHP5",
        "outputId": "ef0e8b8e-09de-4475-ec4a-8277b6d8f3bc"
      },
      "execution_count": 19,
      "outputs": [
        {
          "output_type": "display_data",
          "data": {
            "text/plain": [
              "<Figure size 432x288 with 2 Axes>"
            ],
            "image/png": "[encoded data removed]"
          },
          "metadata": {
            "needs_background": "light"
          }
        }
      ]
    },
    {
      "cell_type": "markdown",
      "source": [
        "Exercise 4\n",
        "\n",
        "** Use plt.subplots(nrows=1, ncols=2) to create the plot below.**"
      ],
      "metadata": {
        "id": "Z6-3O34Rxetx"
      }
    },
    {
      "cell_type": "code",
      "source": [
        "fig,axes = plt.subplots(nrows=1, ncols=2)"
      ],
      "metadata": {
        "colab": {
          "base_uri": "https://localhost:8080/",
          "height": 269
        },
        "id": "QMYdUP_Gxi7N",
        "outputId": "4ed5a783-5eaf-43f4-cc84-5819c2a2b800"
      },
      "execution_count": 20,
      "outputs": [
        {
          "output_type": "display_data",
          "data": {
            "text/plain": [
              "<Figure size 432x288 with 2 Axes>"
            ],
            "image/png": "[encoded data removed]"
          },
          "metadata": {
            "needs_background": "light"
          }
        }
      ]
    },
    {
      "cell_type": "markdown",
      "source": [
        "** Now plot (x,y) and (x,z) on the axes. Play around with the linewidth and style**"
      ],
      "metadata": {
        "id": "dYcw3_mxxtSo"
      }
    },
    {
      "cell_type": "code",
      "source": [
        "fig,axes = plt.subplots(nrows=1, ncols=2)\n",
        "\n",
        "axes[0].plot(x,y,color='blue',ls='--',linewidth=3)\n",
        "axes[1].plot(x,z,color='red',ls='-',linewidth=3)"
      ],
      "metadata": {
        "colab": {
          "base_uri": "https://localhost:8080/",
          "height": 283
        },
        "id": "_XI4-x8xxuAi",
        "outputId": "ef5b6db6-4834-4526-b008-c8606f099b05"
      },
      "execution_count": 30,
      "outputs": [
        {
          "output_type": "execute_result",
          "data": {
            "text/plain": [
              "[<matplotlib.lines.Line2D at 0x7f9229cdde50>]"
            ]
          },
          "metadata": {},
          "execution_count": 30
        },
        {
          "output_type": "display_data",
          "data": {
            "text/plain": [
              "<Figure size 432x288 with 2 Axes>"
            ],
            "image/png": "[encoded data removed]"
          },
          "metadata": {
            "needs_background": "light"
          }
        }
      ]
    },
    {
      "cell_type": "markdown",
      "source": [
        "** See if you can resize the plot by adding the figsize() argument in plt.subplots() are copying and pasting your previous code.**"
      ],
      "metadata": {
        "id": "cEgHjML5y00M"
      }
    },
    {
      "cell_type": "code",
      "source": [
        "fig,axes = plt.subplots(figsize=(12,2),nrows=1, ncols=2)\n",
        "\n",
        "axes[0].plot(x,y,color='blue',ls='--',linewidth=3)\n",
        "axes[0].set_xlabel('x')\n",
        "axes[0].set_ylabel('y')\n",
        "\n",
        "axes[1].plot(x,z,color='red',ls='-',linewidth=3)\n",
        "axes[1].set_xlabel('x')\n",
        "axes[1].set_ylabel('z')"
      ],
      "metadata": {
        "colab": {
          "base_uri": "https://localhost:8080/",
          "height": 189
        },
        "id": "DgqWVWcjy2yF",
        "outputId": "2b2e6184-669c-4735-d3e4-ac97b94e242d"
      },
      "execution_count": 34,
      "outputs": [
        {
          "output_type": "execute_result",
          "data": {
            "text/plain": [
              "Text(0, 0.5, 'z')"
            ]
          },
          "metadata": {},
          "execution_count": 34
        },
        {
          "output_type": "display_data",
          "data": {
            "text/plain": [
              "<Figure size 864x144 with 2 Axes>"
            ],
            "image/png": "[encoded data removed]"
          },
          "metadata": {
            "needs_background": "light"
          }
        }
      ]
    }
  ]
}